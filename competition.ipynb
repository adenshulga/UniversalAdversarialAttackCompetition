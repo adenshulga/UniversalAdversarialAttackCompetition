{
 "cells": [
  {
   "cell_type": "code",
   "execution_count": 334,
   "metadata": {},
   "outputs": [],
   "source": [
    "import random\n",
    "import typing as tp\n",
    "\n",
    "import aiohttp\n",
    "import matplotlib.pyplot as plt\n",
    "import pandas as pd\n",
    "import torch\n",
    "from PIL.Image import Image\n",
    "from torch import Tensor, nn\n",
    "from torch.nn import Module as TorchModel\n",
    "from torch.utils.data import DataLoader as TorchDataLoader\n",
    "from torch.utils.data import Dataset as TorchDataset\n",
    "from torch.utils.data import TensorDataset\n",
    "from torchvision import transforms\n",
    "from torchvision.utils import make_grid\n",
    "from tqdm import tqdm"
   ]
  },
  {
   "cell_type": "markdown",
   "metadata": {},
   "source": [
    "В этом соревновании вам предлагается получить наилучшую универсальную атаку на модель ResNet-18 обученную на датасете CIFAR-10\n",
    "\n",
    "Посылка решений, получение актуального лидерборда, а также бейзлайн будут вам рассказаны по ходу этого ноутбука. "
   ]
  },
  {
   "cell_type": "markdown",
   "metadata": {},
   "source": [
    "## Подгрузка данных"
   ]
  },
  {
   "cell_type": "markdown",
   "metadata": {},
   "source": [
    "Загрузите файл 'train_data.pt' в google collab, он содержит **ваш** набор тренировочных данных, с помощью которых вы должны получить универсальную атаку на модель.\n",
    "\n",
    "Не забудьте выбрать GPU в Google Collab. Это можно сделать с помощью Runtime -> Change runtime type -> \"T4 GPU\" -> Save"
   ]
  },
  {
   "cell_type": "code",
   "execution_count": 335,
   "metadata": {},
   "outputs": [],
   "source": [
    "def load_data(filepath: str) -> TorchDataset:\n",
    "    loaded_data = torch.load(filepath)\n",
    "\n",
    "    images_tensor = loaded_data[\"images\"]\n",
    "    labels_tensor = loaded_data[\"labels\"]\n",
    "\n",
    "    dataset = TensorDataset(images_tensor, labels_tensor)\n",
    "\n",
    "    print(f\"Subset loaded successfully from {filepath}\")\n",
    "    return dataset"
   ]
  },
  {
   "cell_type": "markdown",
   "metadata": {},
   "source": [
    "Запуск следующей клетки подгрузит в соотвествующие переменные модель ResNet18, а также часть тренировочного датасета CIFAR-10"
   ]
  },
  {
   "cell_type": "code",
   "execution_count": null,
   "metadata": {},
   "outputs": [
    {
     "name": "stdout",
     "output_type": "stream",
     "text": [
      "Subset loaded successfully from data/train_data.pt\n"
     ]
    },
    {
     "name": "stderr",
     "output_type": "stream",
     "text": [
      "Using cache found in /home/andrey/.cache/torch/hub/chenyaofo_pytorch-cifar-models_master\n",
      "/tmp/ipykernel_560309/962752015.py:3: FutureWarning: You are using `torch.load` with `weights_only=False` (the current default value), which uses the default pickle module implicitly. It is possible to construct malicious pickle data which will execute arbitrary code during unpickling (See https://github.com/pytorch/pytorch/blob/main/SECURITY.md#untrusted-models for more details). In a future release, the default value for `weights_only` will be flipped to `True`. This limits the functions that could be executed during unpickling. Arbitrary objects will no longer be allowed to be loaded via this mode unless they are explicitly allowlisted by the user via `torch.serialization.add_safe_globals`. We recommend you start setting `weights_only=True` for any use case where you don't have full control of the loaded file. Please open an issue on GitHub for any issues related to this experimental feature.\n",
      "  loaded_data = torch.load(filepath)\n"
     ]
    }
   ],
   "source": [
    "DEVICE = torch.device(\"cuda\") if torch.cuda.is_available() else torch.device(\"cpu\")\n",
    "CLASS_NAMES = [\n",
    "    \"airplane\",\n",
    "    \"automobile\",\n",
    "    \"bird\",\n",
    "    \"cat\",\n",
    "    \"deer\",\n",
    "    \"dog\",\n",
    "    \"frog\",\n",
    "    \"horse\",\n",
    "    \"ship\",\n",
    "    \"truck\",\n",
    "]\n",
    "\n",
    "model: TorchModel = tp.cast(\n",
    "    TorchModel,\n",
    "    torch.hub.load(\n",
    "        \"chenyaofo/pytorch-cifar-models\", \"cifar10_resnet20\", pretrained=True\n",
    "    ),\n",
    ")  # resnet18 trained on CIFAR-10 dataset\n",
    "\n",
    "model.to(DEVICE)\n",
    "\n",
    "cast_to_tensor: tp.Callable[[Image], Tensor] = (\n",
    "    transforms.ToTensor()\n",
    ")  # function to cast image to tensor\n",
    "cast_to_image: tp.Callable[[Tensor], Image] = transforms.ToPILImage()\n",
    "\n",
    "cifar10_tensors: TorchDataset[tuple[Tensor, int]] = load_data(\"train_data.pt\")\n",
    "\n",
    "cifar10_dataloader = TorchDataLoader(\n",
    "    dataset=cifar10_tensors, batch_size=128, shuffle=False\n",
    ")"
   ]
  },
  {
   "cell_type": "markdown",
   "metadata": {},
   "source": [
    "В этой клетке загружается случайный образец из тренировочной выборки для вашего удобства"
   ]
  },
  {
   "cell_type": "code",
   "execution_count": 430,
   "metadata": {},
   "outputs": [],
   "source": [
    "T = tp.TypeVar(\"T\") # аннотация \"дженерик\" типа, прямой эквивалент шаблонов из C++\n",
    "\n",
    "\n",
    "def sample_from_dataset(dataset: TorchDataset[T]) -> T:\n",
    "    idx = random.randint(0, len(dataset) - 1)  # type: ignore\n",
    "    return dataset[idx]\n",
    "\n",
    "\n",
    "example_tensor, example_label = sample_from_dataset(cifar10_tensors)\n",
    "example_image = cast_to_image(example_tensor)"
   ]
  },
  {
   "cell_type": "markdown",
   "metadata": {},
   "source": [
    "Максимально допустимая норма атаки сохранена в переменную EPSILON"
   ]
  },
  {
   "cell_type": "code",
   "execution_count": 419,
   "metadata": {},
   "outputs": [],
   "source": [
    "EPSILON = 4e-2"
   ]
  },
  {
   "cell_type": "markdown",
   "metadata": {},
   "source": [
    "В следующей клетке содержатся две функции для визуализации случайных сэмплов из датасета"
   ]
  },
  {
   "cell_type": "code",
   "execution_count": 338,
   "metadata": {},
   "outputs": [],
   "source": [
    "def get_random_image_by_class(dataset: TorchDataset, class_label: int) -> Tensor:\n",
    "    while True:\n",
    "        idx = random.randint(0, len(dataset) - 1)  # type: ignore\n",
    "        image, label = dataset[idx]\n",
    "        if label == class_label:\n",
    "            return image\n",
    "\n",
    "\n",
    "def display_random_image_of_each_class(\n",
    "    dataset: TorchDataset, figsize: tuple[int, int] = (15, 6)\n",
    ") -> None:\n",
    "    nrow = 5\n",
    "\n",
    "    images: list[Image] = [\n",
    "        cast_to_image(get_random_image_by_class(dataset, class_label))\n",
    "        for class_label in range(10)\n",
    "    ]\n",
    "\n",
    "    images_tensors: list[Tensor] = [cast_to_tensor(img) for img in images]\n",
    "\n",
    "    grid = make_grid(images_tensors, nrow=nrow)\n",
    "    np_grid = grid.permute(\n",
    "        1, 2, 0\n",
    "    ).numpy()  # Place channel dimension in correct place for display\n",
    "\n",
    "    plt.figure(figsize=figsize)  # Adjust figsize as needed for clarity\n",
    "    plt.imshow(np_grid)\n",
    "    plt.axis(\"off\")  # Hide axis\n",
    "    plt.title(\"Random Image from Each CIFAR-10 Class\", fontsize=16)\n",
    "\n",
    "    grid_height, grid_width, _ = np_grid.shape\n",
    "    img_height = grid_height // 2\n",
    "    img_width = grid_width // 5\n",
    "\n",
    "    for idx, class_label in enumerate(CLASS_NAMES):\n",
    "        row = idx // nrow\n",
    "        col = idx % nrow\n",
    "\n",
    "        # Calculate position for the label\n",
    "        x = col * img_width + img_width / 2\n",
    "        y = row * img_height + img_height / 2\n",
    "        plt.text(\n",
    "            x,\n",
    "            y,\n",
    "            class_label,\n",
    "            fontsize=12,\n",
    "            color=\"white\",\n",
    "            ha=\"center\",\n",
    "            va=\"bottom\",\n",
    "            backgroundcolor=\"black\",\n",
    "        )\n",
    "\n",
    "    plt.show()\n"
   ]
  },
  {
   "cell_type": "code",
   "execution_count": 339,
   "metadata": {},
   "outputs": [
    {
     "data": {
      "image/png": "[encoded data removed]",
      "text/plain": [
       "<Figure size 1500x600 with 1 Axes>"
      ]
     },
     "metadata": {},
     "output_type": "display_data"
    }
   ],
   "source": [
    "display_random_image_of_each_class(cifar10_tensors)"
   ]
  },
  {
   "cell_type": "markdown",
   "metadata": {},
   "source": [
    "## Вычисление качества атаки"
   ]
  },
  {
   "cell_type": "markdown",
   "metadata": {},
   "source": [
    "Конкретный пример применения будет показан дальше"
   ]
  },
  {
   "cell_type": "code",
   "execution_count": 374,
   "metadata": {},
   "outputs": [],
   "source": [
    "def l_inf_img_norm(img: Tensor) -> float:\n",
    "    \"\"\"Evaluate l infinity norm\"\"\"\n",
    "    return torch.max(torch.abs(img)).item()\n",
    "\n",
    "\n",
    "def check_validity_of_pertubations(\n",
    "    pertubations: list[Tensor],\n",
    "    norm_function: tp.Callable[[Tensor], float] = l_inf_img_norm,\n",
    "    max_norm: float = EPSILON,\n",
    ") -> bool:\n",
    "    \"\"\"\n",
    "    Check whether the norm of each pertubation is within bounds\n",
    "    \"\"\"\n",
    "    for pert in pertubations:\n",
    "        if norm_function(pert) > max_norm:\n",
    "            return False\n",
    "\n",
    "    return True\n",
    "\n",
    "\n",
    "def score_adversarial_attack(\n",
    "    pertubations: list[Tensor],\n",
    "    model: torch.nn.Module,\n",
    "    dataloader: TorchDataLoader,\n",
    "    device: torch.device,\n",
    ") -> float:\n",
    "    \"\"\"\n",
    "    Score is evaluated as a percent of samples on which model changed its predictions(\"fooling ratio\")\n",
    "    Attack is successful if at least one of passed pertubations changes prediction of the model\n",
    "    \"\"\"\n",
    "\n",
    "    model.eval()\n",
    "\n",
    "    num_samples = len(dataloader.dataset)  # type: ignore\n",
    "\n",
    "    attack_results: list[Tensor] = []\n",
    "\n",
    "    with torch.no_grad():\n",
    "        original_preds_list = []\n",
    "        for images, _ in tqdm(dataloader, desc=\"Evaluating original predictions\"):\n",
    "            images = images.to(device)\n",
    "            logits = model(images)  # Shape: [batch_size, num_classes]\n",
    "            preds = logits.argmax(dim=1)  # Shape: [batch_size]\n",
    "            original_preds_list.append(preds.cpu())\n",
    "\n",
    "        original_preds = torch.cat(original_preds_list, dim=0)  # Shape: [num_samples]\n",
    "\n",
    "        for pert_idx, pert in enumerate(pertubations):\n",
    "            pert = pert.to(device)  # just in case\n",
    "\n",
    "            fooled_mask = torch.zeros(num_samples, dtype=torch.bool)\n",
    "            offset = 0  # Tracks position in the fooled_mask\n",
    "\n",
    "            for images, _ in tqdm(\n",
    "                dataloader,\n",
    "                desc=f\"Evaluating attacked predictions on {pert_idx} pertubation\",\n",
    "            ):\n",
    "                batch_size = images.size(0)\n",
    "\n",
    "                images = images.to(device)\n",
    "\n",
    "                attacked_images = images + pert.to(device)\n",
    "\n",
    "                attacked_logits = model(attacked_images)\n",
    "                attacked_preds = attacked_logits.argmax(dim=1).cpu()  # [batch_size]\n",
    "\n",
    "                # Compare with the corresponding original predictions\n",
    "                original_batch_preds = original_preds[offset : offset + batch_size]\n",
    "                fooled_batch = attacked_preds.ne(original_batch_preds)  # bool tensor\n",
    "\n",
    "                fooled_mask[offset : offset + batch_size] = fooled_batch\n",
    "                offset += batch_size\n",
    "\n",
    "            attack_results.append(fooled_mask)\n",
    "\n",
    "    all_fooled_tensor = torch.stack(attack_results, dim=0)\n",
    "    fooled_by_any = all_fooled_tensor.any(dim=0)  # Logical OR\n",
    "\n",
    "    num_fooled_samples = fooled_by_any.sum().item()\n",
    "    fooling_ratio = num_fooled_samples / num_samples\n",
    "\n",
    "    return fooling_ratio"
   ]
  },
  {
   "cell_type": "markdown",
   "metadata": {},
   "source": [
    "## Первый бейзлайн: случайная атака"
   ]
  },
  {
   "cell_type": "markdown",
   "metadata": {},
   "source": [
    "Сгенерируем 2 случайные атаки"
   ]
  },
  {
   "cell_type": "code",
   "execution_count": 375,
   "metadata": {},
   "outputs": [],
   "source": [
    "random_attacks = [torch.rand(3, 32, 32) * EPSILON for _ in range(3)]"
   ]
  },
  {
   "cell_type": "markdown",
   "metadata": {},
   "source": [
    "Проверим что норма каждой атаки не превосходит порог "
   ]
  },
  {
   "cell_type": "code",
   "execution_count": 413,
   "metadata": {},
   "outputs": [
    {
     "data": {
      "text/plain": [
       "True"
      ]
     },
     "execution_count": 413,
     "metadata": {},
     "output_type": "execute_result"
    }
   ],
   "source": [
    "check_validity_of_pertubations(random_attacks)"
   ]
  },
  {
   "cell_type": "markdown",
   "metadata": {},
   "source": [
    "Вычислим качество атаки на тестовой выборке как долю атакованных примеров, на которых модель изменила свое предсказание"
   ]
  },
  {
   "cell_type": "code",
   "execution_count": 377,
   "metadata": {},
   "outputs": [
    {
     "name": "stderr",
     "output_type": "stream",
     "text": [
      "Evaluating original predictions: 100%|██████████| 21/21 [00:00<00:00, 172.37it/s]\n",
      "Evaluating attacked predictions on 0 pertubation: 100%|██████████| 21/21 [00:00<00:00, 183.25it/s]\n",
      "Evaluating attacked predictions on 1 pertubation: 100%|██████████| 21/21 [00:00<00:00, 215.90it/s]\n",
      "Evaluating attacked predictions on 2 pertubation: 100%|██████████| 21/21 [00:00<00:00, 214.37it/s]\n"
     ]
    },
    {
     "name": "stdout",
     "output_type": "stream",
     "text": [
      "Score on random pertubations: 0.1482490272373541\n"
     ]
    }
   ],
   "source": [
    "score_on_random_attack = score_adversarial_attack(\n",
    "    random_attacks, model, cifar10_dataloader, DEVICE\n",
    ")\n",
    "print(f\"Score on random pertubations: {score_on_random_attack}\")"
   ]
  },
  {
   "cell_type": "markdown",
   "metadata": {},
   "source": [
    "## Посылка решения в тестирующую систему"
   ]
  },
  {
   "cell_type": "markdown",
   "metadata": {},
   "source": [
    "Взаимодействие с тестирующей системой осуществляется с помощью 4х асинхронных методов:\n",
    "- `register` - регистрация в тестирующей системе\n",
    "- `get_leaderboard` - получить текущий лидерборд, где указана лучшая посылка для каждого пользователя\n",
    "- `get_submission_history` - получить историю \"скоров\" ваших посылок\n",
    "- `submit` - сделать посылку вашего решения в тестирующую систему"
   ]
  },
  {
   "cell_type": "markdown",
   "metadata": {},
   "source": [
    "В переменную USERNAME укажите название вашей команды, а в переменную PASSWORD укажите пароль "
   ]
  },
  {
   "cell_type": "code",
   "execution_count": 378,
   "metadata": {},
   "outputs": [],
   "source": [
    "USERNAME: str = ...\n",
    "PASSWORD: str = ..."
   ]
  },
  {
   "cell_type": "markdown",
   "metadata": {},
   "source": [
    "Следующая клетка содержит функции для взаимодействия с тестирующей системой. Их использование будет показано чуть дальше"
   ]
  },
  {
   "cell_type": "code",
   "execution_count": null,
   "metadata": {},
   "outputs": [],
   "source": [
    "BASE_URL = \"http://127.0.0.1:8000\"\n",
    "\n",
    "\n",
    "async def register(username: str = USERNAME, passwd: str = PASSWORD) -> None:\n",
    "    \"\"\"\n",
    "    Calls the /register endpoint to create a new user.\n",
    "    Raises ValueError if registration fails.\n",
    "    \"\"\"\n",
    "    endpoint = f\"{BASE_URL}/register?username={username}&password={passwd}\"\n",
    "    async with aiohttp.ClientSession() as session:\n",
    "        res = await session.post(endpoint)  # (no JSON body here)\n",
    "        if res.status != 200:\n",
    "            content = await res.text()\n",
    "            raise ValueError(f\"Registration failed: {content}\")\n",
    "        print(await res.json())\n",
    "\n",
    "\n",
    "async def get_leaderboard() -> pd.DataFrame:\n",
    "    \"\"\"\n",
    "    Calls the /leaderboard endpoint and returns a DataFrame\n",
    "    with columns [user, score].\n",
    "    \"\"\"\n",
    "    endpoint = f\"{BASE_URL}/leaderboard\"\n",
    "    async with aiohttp.ClientSession() as session:\n",
    "        res = await session.get(endpoint)\n",
    "        if res.status != 200:\n",
    "            content = await res.text()\n",
    "            raise ValueError(f\"Error getting leaderboard: {content}\")\n",
    "        data = await res.json()\n",
    "        leaderboard = data[\"leaderboard\"]\n",
    "        df = pd.DataFrame(leaderboard, columns=[\"user\", \"score\"])\n",
    "        return df\n",
    "\n",
    "\n",
    "async def get_submission_history(username: str = USERNAME) -> list[float]:\n",
    "    \"\"\"\n",
    "    Calls the /submissions_history endpoint with the given username\n",
    "    and returns that user's history of submission scores as a list[float].\n",
    "    \"\"\"\n",
    "    endpoint = f\"{BASE_URL}/submissions_history\"\n",
    "\n",
    "    async with aiohttp.ClientSession() as session:\n",
    "        # Pass the username as a query parameter\n",
    "        res = await session.get(endpoint, params={\"username\": username})\n",
    "        if res.status != 200:\n",
    "            content = await res.text()\n",
    "            raise ValueError(f\"Error getting submissions history: {content}\")\n",
    "        data = await res.json()\n",
    "        return data[\"history\"]\n",
    "\n",
    "\n",
    "async def submit(\n",
    "    perturbations: list[Tensor], username: str = USERNAME, passwd: str = PASSWORD\n",
    ") -> float:\n",
    "    \"\"\"\n",
    "    Calls the /submit endpoint (requires Basic Auth).\n",
    "    Uploads each tensor in the `perturbations` list as an image file\n",
    "    in a multipart/form-data request. Returns the score from the server.\n",
    "    \"\"\"\n",
    "\n",
    "    if not isinstance(perturbations, list) or not all(\n",
    "        isinstance(pert, Tensor) for pert in perturbations\n",
    "    ):\n",
    "        raise ValueError(\n",
    "            \"Pertubations have wrong type, you need to pass list of torch.Tensor\"\n",
    "        )\n",
    "\n",
    "    endpoint = f\"{BASE_URL}/submit\"\n",
    "    form_data = aiohttp.FormData()\n",
    "\n",
    "    for i, tensor in enumerate(perturbations):\n",
    "        file_bytes = tensor.cpu().numpy().tobytes()\n",
    "        form_data.add_field(\n",
    "            name=\"files\",\n",
    "            value=file_bytes,\n",
    "            filename=f\"file_{i}.bin\",\n",
    "            content_type=\"application/octet-stream\",\n",
    "        )\n",
    "\n",
    "    # Send request with BasicAuth\n",
    "    async with aiohttp.ClientSession() as session:\n",
    "        res = await session.post(\n",
    "            endpoint, data=form_data, auth=aiohttp.BasicAuth(username, passwd)\n",
    "        )\n",
    "        if res.status != 200:\n",
    "            content = await res.text()\n",
    "            raise ValueError(f\"Error submitting perturbations: {content}\")\n",
    "        data = await res.json()\n",
    "        return data[\"score\"]\n"
   ]
  },
  {
   "cell_type": "markdown",
   "metadata": {},
   "source": [
    "Все эти 4 функции - **асинхронные**, это значит что для их выполнения нужно обязательно добавлять ключевое слово await"
   ]
  },
  {
   "cell_type": "markdown",
   "metadata": {},
   "source": [
    "Выполните следующую клетку, чтобы тестирующая система запомнила вас"
   ]
  },
  {
   "cell_type": "code",
   "execution_count": 416,
   "metadata": {},
   "outputs": [
    {
     "ename": "ValueError",
     "evalue": "Registration failed: {\"detail\":\"Username already exists\"}",
     "output_type": "error",
     "traceback": [
      "\u001b[0;31m---------------------------------------------------------------------------\u001b[0m",
      "\u001b[0;31mValueError\u001b[0m                                Traceback (most recent call last)",
      "Cell \u001b[0;32mIn[416], line 1\u001b[0m\n\u001b[0;32m----> 1\u001b[0m \u001b[38;5;28;01mawait\u001b[39;00m register()\n",
      "Cell \u001b[0;32mIn[378], line 16\u001b[0m, in \u001b[0;36mregister\u001b[0;34m(username, passwd)\u001b[0m\n\u001b[1;32m     14\u001b[0m \u001b[38;5;28;01mif\u001b[39;00m res\u001b[38;5;241m.\u001b[39mstatus \u001b[38;5;241m!=\u001b[39m \u001b[38;5;241m200\u001b[39m:\n\u001b[1;32m     15\u001b[0m     content \u001b[38;5;241m=\u001b[39m \u001b[38;5;28;01mawait\u001b[39;00m res\u001b[38;5;241m.\u001b[39mtext()\n\u001b[0;32m---> 16\u001b[0m     \u001b[38;5;28;01mraise\u001b[39;00m \u001b[38;5;167;01mValueError\u001b[39;00m(\u001b[38;5;124mf\u001b[39m\u001b[38;5;124m\"\u001b[39m\u001b[38;5;124mRegistration failed: \u001b[39m\u001b[38;5;132;01m{\u001b[39;00mcontent\u001b[38;5;132;01m}\u001b[39;00m\u001b[38;5;124m\"\u001b[39m)\n\u001b[1;32m     17\u001b[0m \u001b[38;5;28mprint\u001b[39m(\u001b[38;5;28;01mawait\u001b[39;00m res\u001b[38;5;241m.\u001b[39mjson())\n",
      "\u001b[0;31mValueError\u001b[0m: Registration failed: {\"detail\":\"Username already exists\"}"
     ]
    }
   ],
   "source": [
    "await register()"
   ]
  },
  {
   "cell_type": "markdown",
   "metadata": {},
   "source": [
    "Функцию register() нужно запустить ровно один раз, если вызвать ее еще раз, тестирующая система вернет ошибку, так как уже знает вас"
   ]
  },
  {
   "cell_type": "markdown",
   "metadata": {},
   "source": [
    "В следующей клетке пример засылки вашего решения в тестирующую систему. Вам нужно отправить лист из не более двух тензоров с адверсальной атакой, у каждого из которого норма меньше EPSILON"
   ]
  },
  {
   "cell_type": "code",
   "execution_count": 384,
   "metadata": {},
   "outputs": [
    {
     "data": {
      "text/plain": [
       "0.109"
      ]
     },
     "execution_count": 384,
     "metadata": {},
     "output_type": "execute_result"
    }
   ],
   "source": [
    "await submit(random_attacks)"
   ]
  },
  {
   "cell_type": "markdown",
   "metadata": {},
   "source": [
    "С помощью функции get_leaderboard можно получить текущий лидерборд с лучшими посылками на текущий момент от всех участников соревнования"
   ]
  },
  {
   "cell_type": "code",
   "execution_count": 385,
   "metadata": {},
   "outputs": [
    {
     "data": {
      "text/html": [
       "<div>\n",
       "<style scoped>\n",
       "    .dataframe tbody tr th:only-of-type {\n",
       "        vertical-align: middle;\n",
       "    }\n",
       "\n",
       "    .dataframe tbody tr th {\n",
       "        vertical-align: top;\n",
       "    }\n",
       "\n",
       "    .dataframe thead th {\n",
       "        text-align: right;\n",
       "    }\n",
       "</style>\n",
       "<table border=\"1\" class=\"dataframe\">\n",
       "  <thead>\n",
       "    <tr style=\"text-align: right;\">\n",
       "      <th></th>\n",
       "      <th>user</th>\n",
       "      <th>score</th>\n",
       "    </tr>\n",
       "  </thead>\n",
       "  <tbody>\n",
       "    <tr>\n",
       "      <th>0</th>\n",
       "      <td>admin</td>\n",
       "      <td>0.109</td>\n",
       "    </tr>\n",
       "  </tbody>\n",
       "</table>\n",
       "</div>"
      ],
      "text/plain": [
       "    user  score\n",
       "0  admin  0.109"
      ]
     },
     "execution_count": 385,
     "metadata": {},
     "output_type": "execute_result"
    }
   ],
   "source": [
    "await get_leaderboard()"
   ]
  },
  {
   "cell_type": "markdown",
   "metadata": {},
   "source": [
    "Функция get_submission_history возвращает лист со \"скорами\" успешных посылок в прошлом "
   ]
  },
  {
   "cell_type": "code",
   "execution_count": 386,
   "metadata": {},
   "outputs": [
    {
     "data": {
      "text/plain": [
       "[0.109]"
      ]
     },
     "execution_count": 386,
     "metadata": {},
     "output_type": "execute_result"
    }
   ],
   "source": [
    "await get_submission_history()"
   ]
  },
  {
   "cell_type": "markdown",
   "metadata": {},
   "source": [
    "## Второй бейзлайн: метод SGD"
   ]
  },
  {
   "cell_type": "markdown",
   "metadata": {},
   "source": [
    "Далее представлена реализация универсальной адверсальной атаки с помощью метода стохастического градиентного спуска.\n",
    "Детально о нем можно прочитать в статье: https://openaccess.thecvf.com/content_cvpr_2017/papers/Moosavi-Dezfooli_Universal_Adversarial_Perturbations_CVPR_2017_paper.pdf"
   ]
  },
  {
   "cell_type": "code",
   "execution_count": 387,
   "metadata": {},
   "outputs": [],
   "source": [
    "def clamped_crossentropy_loss(\n",
    "    outputs: Tensor, targets: Tensor, loss_fn: nn.Module, beta_tensor: torch.Tensor\n",
    ") -> Tensor:\n",
    "    per_sample_loss = loss_fn(outputs, targets)\n",
    "    clipped = torch.minimum(per_sample_loss, beta_tensor)\n",
    "    return clipped.mean()\n",
    "\n",
    "\n",
    "def uap_sgd(\n",
    "    model: nn.Module,\n",
    "    loader: TorchDataLoader,\n",
    "    nb_epoch: int,\n",
    "    eps: float = EPSILON,\n",
    "    beta: float = 12.0,\n",
    "    step_decay: float = 0.8,\n",
    "    loss_fn=None,\n",
    "    uap_init: Tensor | None = None,\n",
    ") -> tuple[Tensor, list[float]]:\n",
    "    device = next(model.parameters()).device\n",
    "    model.eval()\n",
    "\n",
    "    # Get shape from the first batch\n",
    "    x_val, y_val = next(iter(loader))\n",
    "    x_val, y_val = x_val.to(device), y_val.to(device)\n",
    "\n",
    "    if uap_init is None:\n",
    "        # shape [C,H,W] from the first sample\n",
    "        delta = torch.zeros_like(x_val[0], device=device)\n",
    "    else:\n",
    "        delta = uap_init.to(device).clone()\n",
    "\n",
    "    if loss_fn is None:\n",
    "        loss_fn = nn.CrossEntropyLoss(reduction=\"none\")\n",
    "\n",
    "    beta_tensor = torch.tensor([beta], device=device, dtype=torch.float32)\n",
    "\n",
    "    losses: list[float] = []\n",
    "    eps_step = eps * step_decay  # initial step size\n",
    "\n",
    "    for epoch in range(nb_epoch):\n",
    "        print(f\"Epoch {epoch + 1}/{nb_epoch}\")\n",
    "        for i, (x_batch, y_batch) in tqdm(enumerate(loader), total=len(loader)):\n",
    "            x_batch = x_batch.to(device)\n",
    "            y_batch = y_batch.to(device)\n",
    "\n",
    "            # Create a fresh batch_delta each time, sized for this batch\n",
    "            current_batch_size = x_batch.size(0)\n",
    "            batch_delta = delta.unsqueeze(0).repeat(current_batch_size, 1, 1, 1)\n",
    "            batch_delta.requires_grad_(True)\n",
    "\n",
    "            # Forward pass\n",
    "            perturbed = torch.clamp(x_batch + batch_delta, 0, 1)\n",
    "            outputs = model(perturbed)\n",
    "\n",
    "            # Compute loss\n",
    "            c_loss = clamped_crossentropy_loss(outputs, y_batch, loss_fn, beta_tensor)\n",
    "            loss = c_loss\n",
    "            losses.append(loss.item())\n",
    "\n",
    "            # Backprop\n",
    "            loss.backward()\n",
    "\n",
    "            # Average gradient across batch dimension\n",
    "            grad_mean = batch_delta.grad.mean(dim=0).sign()\n",
    "\n",
    "            # Update `delta` in-place, but do it inside no_grad\n",
    "            with torch.no_grad():\n",
    "                delta += grad_mean * eps_step\n",
    "                delta.clamp_(-eps, eps)\n",
    "\n",
    "        # Optional: decaying step size each epoch\n",
    "        eps_step *= step_decay\n",
    "\n",
    "    return delta.detach(), losses\n"
   ]
  },
  {
   "cell_type": "code",
   "execution_count": 421,
   "metadata": {},
   "outputs": [
    {
     "name": "stdout",
     "output_type": "stream",
     "text": [
      "Epoch 1/2\n"
     ]
    },
    {
     "name": "stderr",
     "output_type": "stream",
     "text": [
      "  0%|          | 0/21 [00:00<?, ?it/s]"
     ]
    },
    {
     "name": "stderr",
     "output_type": "stream",
     "text": [
      "100%|██████████| 21/21 [00:00<00:00, 56.32it/s]\n"
     ]
    },
    {
     "name": "stdout",
     "output_type": "stream",
     "text": [
      "Epoch 2/2\n"
     ]
    },
    {
     "name": "stderr",
     "output_type": "stream",
     "text": [
      "100%|██████████| 21/21 [00:00<00:00, 74.67it/s]\n"
     ]
    }
   ],
   "source": [
    "sgd_attack, loss_history = uap_sgd(model, cifar10_dataloader, 2)"
   ]
  },
  {
   "cell_type": "code",
   "execution_count": 422,
   "metadata": {},
   "outputs": [
    {
     "name": "stderr",
     "output_type": "stream",
     "text": [
      "Evaluating original predictions: 100%|██████████| 21/21 [00:00<00:00, 163.67it/s]\n",
      "Evaluating attacked predictions on 0 pertubation: 100%|██████████| 21/21 [00:00<00:00, 182.42it/s]"
     ]
    },
    {
     "name": "stdout",
     "output_type": "stream",
     "text": [
      "Score of universal attack via sgd method: 0.8011673151750973\n"
     ]
    },
    {
     "name": "stderr",
     "output_type": "stream",
     "text": [
      "\n"
     ]
    }
   ],
   "source": [
    "score_on_sgd_attack = score_adversarial_attack(\n",
    "    [sgd_attack], model, cifar10_dataloader, DEVICE\n",
    ")\n",
    "print(f\"Score of universal attack via sgd method: {score_on_sgd_attack}\")"
   ]
  },
  {
   "cell_type": "code",
   "execution_count": 423,
   "metadata": {},
   "outputs": [
    {
     "data": {
      "text/plain": [
       "0.813"
      ]
     },
     "execution_count": 423,
     "metadata": {},
     "output_type": "execute_result"
    }
   ],
   "source": [
    "await submit([sgd_attack])"
   ]
  },
  {
   "cell_type": "code",
   "execution_count": 424,
   "metadata": {},
   "outputs": [
    {
     "data": {
      "text/html": [
       "<div>\n",
       "<style scoped>\n",
       "    .dataframe tbody tr th:only-of-type {\n",
       "        vertical-align: middle;\n",
       "    }\n",
       "\n",
       "    .dataframe tbody tr th {\n",
       "        vertical-align: top;\n",
       "    }\n",
       "\n",
       "    .dataframe thead th {\n",
       "        text-align: right;\n",
       "    }\n",
       "</style>\n",
       "<table border=\"1\" class=\"dataframe\">\n",
       "  <thead>\n",
       "    <tr style=\"text-align: right;\">\n",
       "      <th></th>\n",
       "      <th>user</th>\n",
       "      <th>score</th>\n",
       "    </tr>\n",
       "  </thead>\n",
       "  <tbody>\n",
       "    <tr>\n",
       "      <th>0</th>\n",
       "      <td>user1</td>\n",
       "      <td>0.814</td>\n",
       "    </tr>\n",
       "    <tr>\n",
       "      <th>1</th>\n",
       "      <td>admin</td>\n",
       "      <td>0.813</td>\n",
       "    </tr>\n",
       "  </tbody>\n",
       "</table>\n",
       "</div>"
      ],
      "text/plain": [
       "    user  score\n",
       "0  user1  0.814\n",
       "1  admin  0.813"
      ]
     },
     "execution_count": 424,
     "metadata": {},
     "output_type": "execute_result"
    }
   ],
   "source": [
    "await get_leaderboard()"
   ]
  },
  {
   "cell_type": "code",
   "execution_count": 425,
   "metadata": {},
   "outputs": [
    {
     "data": {
      "text/plain": [
       "[0.109, 0.813, 0.813]"
      ]
     },
     "execution_count": 425,
     "metadata": {},
     "output_type": "execute_result"
    }
   ],
   "source": [
    "await get_submission_history()"
   ]
  },
  {
   "cell_type": "markdown",
   "metadata": {},
   "source": [
    "## Визуализация адверсальной атаки"
   ]
  },
  {
   "cell_type": "code",
   "execution_count": 404,
   "metadata": {},
   "outputs": [],
   "source": [
    "def visualize_result_of_attack(img: Tensor, attack: Tensor, model: nn.Module) -> None:\n",
    "    model.eval()\n",
    "    img = img.to(DEVICE)\n",
    "    attack = attack.to(DEVICE)\n",
    "    # 1) Predict on the original image\n",
    "    with torch.no_grad():\n",
    "        logits_original = model(img.unsqueeze(0))  # shape [1, 10]\n",
    "        pred_original = logits_original.argmax(dim=1).item()\n",
    "\n",
    "    # 2) Generate the attacked image and predict\n",
    "    attacked_img = (img + attack).clamp(0, 1)\n",
    "    with torch.no_grad():\n",
    "        logits_attacked = model(attacked_img.unsqueeze(0))  # shape [1, 10]\n",
    "        pred_attacked = logits_attacked.argmax(dim=1).item()\n",
    "\n",
    "    # 3) Convert Tensors -> PIL for visualization\n",
    "    pil_original = cast_to_image(img.cpu())\n",
    "    pil_attacked = cast_to_image(attacked_img.cpu())\n",
    "\n",
    "    # 4) Plot side-by-side\n",
    "    fig, axes = plt.subplots(1, 2, figsize=(6, 3))\n",
    "    axes[0].imshow(pil_original)\n",
    "    axes[0].set_title(f\"Original: {CLASS_NAMES[pred_original]}\")\n",
    "    axes[0].axis(\"off\")\n",
    "\n",
    "    axes[1].imshow(pil_attacked)\n",
    "    axes[1].set_title(f\"Attacked: {CLASS_NAMES[pred_attacked]}\")\n",
    "    axes[1].axis(\"off\")\n",
    "\n",
    "    plt.tight_layout()\n",
    "    plt.show()\n"
   ]
  },
  {
   "cell_type": "code",
   "execution_count": 426,
   "metadata": {},
   "outputs": [
    {
     "data": {
      "image/png": "[encoded data removed]",
      "text/plain": [
       "<Figure size 600x300 with 2 Axes>"
      ]
     },
     "metadata": {},
     "output_type": "display_data"
    }
   ],
   "source": [
    "visualize_result_of_attack(example_tensor, sgd_attack, model)"
   ]
  },
  {
   "cell_type": "code",
   "execution_count": 427,
   "metadata": {},
   "outputs": [
    {
     "data": {
      "image/png": "[encoded data removed]",
      "text/plain": [
       "<Figure size 600x300 with 2 Axes>"
      ]
     },
     "metadata": {},
     "output_type": "display_data"
    }
   ],
   "source": [
    "visualize_result_of_attack(example_tensor, random_attacks[0], model)"
   ]
  },
  {
   "cell_type": "markdown",
   "metadata": {},
   "source": [
    "## Ваши эксперименты"
   ]
  },
  {
   "cell_type": "markdown",
   "metadata": {},
   "source": [
    "Если при засылке появляется ошибка - читайте ее содержание! Скорее всего вы просто делаете неправильную посылку"
   ]
  },
  {
   "cell_type": "code",
   "execution_count": 431,
   "metadata": {},
   "outputs": [],
   "source": [
    "# TODO: your code"
   ]
  },
  {
   "cell_type": "code",
   "execution_count": null,
   "metadata": {},
   "outputs": [],
   "source": []
  }
 ],
 "metadata": {
  "kernelspec": {
   "display_name": "hackathon_env",
   "language": "python",
   "name": "python3"
  },
  "language_info": {
   "codemirror_mode": {
    "name": "ipython",
    "version": 3
   },
   "file_extension": ".py",
   "mimetype": "text/x-python",
   "name": "python",
   "nbconvert_exporter": "python",
   "pygments_lexer": "ipython3",
   "version": "3.12.5"
  }
 },
 "nbformat": 4,
 "nbformat_minor": 2
}
